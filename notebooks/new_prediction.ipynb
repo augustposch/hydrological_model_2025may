{
 "cells": [
  {
   "cell_type": "markdown",
   "id": "f9a4da3e-38ed-44a2-a3e1-1f781f1f5182",
   "metadata": {},
   "source": [
    "## Predict runoff for new values of Precip and PET\n"
   ]
  },
  {
   "cell_type": "code",
   "execution_count": 23,
   "id": "25ac9cdf-d44a-46d1-b361-4cdbb4e6c095",
   "metadata": {},
   "outputs": [],
   "source": [
    "p={'precipitation': 95, # 24-hr precip value in millimeters - 95 is a good value for an extreme\n",
    "   'PET': 3.64, # PET value in same units as GLEAM. The average for Charles is 3.64 units.\n",
    "   'hydrological_model_params_npy': '../calibrated_model_params/best_pars_charles.npy'}"
   ]
  },
  {
   "cell_type": "code",
   "execution_count": 24,
   "id": "e8c1fcaf-4c50-4ab3-aabc-871ba47b4a3f",
   "metadata": {},
   "outputs": [],
   "source": [
    "import numpy as np"
   ]
  },
  {
   "cell_type": "code",
   "execution_count": 25,
   "id": "c947febc-84c4-4187-8702-cb63143d194d",
   "metadata": {},
   "outputs": [],
   "source": [
    "# load in hyrdological model params\n",
    "model_pars = np.load(p['hydrological_model_params_npy'])"
   ]
  },
  {
   "cell_type": "code",
   "execution_count": 26,
   "id": "6f398ca2-261d-4fb6-beb7-295271a09671",
   "metadata": {},
   "outputs": [],
   "source": [
    "Prec = p['precipitation']\n",
    "Evap = p['PET']\n",
    "\n",
    "\n",
    "INSC= model_pars[0]  # fill in the best parameter values found from calibrations\n",
    "COEFF= model_pars[1]\n",
    "SQ= model_pars[2]\n",
    "SMSC= model_pars[3]\n",
    "SUB=model_pars[4]\n",
    "CRAK= model_pars[5]\n",
    "K= model_pars[6]\n",
    "GWt1, GWt0 = 0, 0\n",
    "SMSt0 = 0\n",
    "SMSt1 = SMSt0 * SMSC\n",
    "\n",
    "\n",
    "# calculate interception store\n",
    "IMAX = min(INSC, Evap)\n",
    "# then calculate interception\n",
    "INT = min(IMAX, Prec)\n",
    "# calculate runoff after interception\n",
    "INR = Prec - INT\n",
    "# calculate infiltration capacity\n",
    "RMO = min(COEFF*np.exp(-SQ*SMSt1/SMSC), INR)\n",
    "# calculate direct runoff after loading to infiltration capacity\n",
    "IRUN = INR - RMO\n",
    "# saturation excess runoff and interflow\n",
    "SRUN = SUB * SMSt1 / SMSC * RMO\n",
    "# calculate recharge\n",
    "REC = CRAK * SMSt1 / SMSC * (RMO - SRUN)\n",
    "# calculate infiltration into soil store\n",
    "SMF = RMO - SRUN - REC\n",
    "# calculate potential ET (amount of Evap after loses)\n",
    "POT = Evap - INT\n",
    "# calculate soil evaporation\n",
    "ET = min(10 * SMSt1/SMSC, POT)\n",
    "# calculate soil moisture storage (SMS) overflow\n",
    "SMS = SMSt1 + SMF - ET\n",
    "# update states of SMS, REC and SMSt1\n",
    "if SMS > SMSC:\n",
    "    REC = REC + SMS - SMSC\n",
    "    SMS = SMSC\n",
    "SMSt1 = SMS\n",
    "# calculate baseflow\n",
    "BAS = K * GWt1\n",
    "# calculate ground water storage\n",
    "GW = GWt1 + REC - BAS\n",
    "# update state of GWt1\n",
    "GWt1 = GW\n",
    "# final runoff (effective precipitation) calculation\n",
    "DR_val = IRUN + SRUN\n",
    "GD_val = BAS\n",
    "Q = IRUN + SRUN + BAS  # Q is the runoff/streamflow/discharge value we care about"
   ]
  },
  {
   "cell_type": "code",
   "execution_count": 28,
   "id": "9394d67c-06bc-44e2-b057-f317424accb5",
   "metadata": {},
   "outputs": [
    {
     "name": "stdout",
     "output_type": "stream",
     "text": [
      "The model predicts runoff/discharge/streamflow of 0.0 units.\n"
     ]
    }
   ],
   "source": [
    "print(f'The model predicts runoff/discharge/streamflow of {Q} units.')"
   ]
  },
  {
   "cell_type": "code",
   "execution_count": null,
   "id": "dc25c8a5-b7fc-49a1-889f-30e5a5a9cec5",
   "metadata": {},
   "outputs": [],
   "source": []
  }
 ],
 "metadata": {
  "kernelspec": {
   "display_name": "Python 3 (ipykernel)",
   "language": "python",
   "name": "python3"
  },
  "language_info": {
   "codemirror_mode": {
    "name": "ipython",
    "version": 3
   },
   "file_extension": ".py",
   "mimetype": "text/x-python",
   "name": "python",
   "nbconvert_exporter": "python",
   "pygments_lexer": "ipython3",
   "version": "3.9.18"
  }
 },
 "nbformat": 4,
 "nbformat_minor": 5
}
